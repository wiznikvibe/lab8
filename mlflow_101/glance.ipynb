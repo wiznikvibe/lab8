{
 "cells": [
  {
   "cell_type": "code",
   "execution_count": 1,
   "id": "d70896c8",
   "metadata": {},
   "outputs": [],
   "source": [
    "import mlflow"
   ]
  },
  {
   "cell_type": "code",
   "execution_count": 2,
   "id": "c28165b3",
   "metadata": {},
   "outputs": [],
   "source": [
    "mlflow.set_tracking_uri(\"http://127.0.0.1:5000/\")"
   ]
  },
  {
   "cell_type": "code",
   "execution_count": 13,
   "id": "28b4a8d0",
   "metadata": {},
   "outputs": [
    {
     "name": "stdout",
     "output_type": "stream",
     "text": [
      "🏃 View run Test1 at: http://127.0.0.1:5000/#/experiments/135730647942244937/runs/8d78d54626fc46fc9fa54c754b1fe1ca\n",
      "🧪 View experiment at: http://127.0.0.1:5000/#/experiments/135730647942244937\n"
     ]
    }
   ],
   "source": [
    "experiment_id = mlflow.create_experiment(\"experiment1\")\n",
    "with mlflow.start_run(experiment_id=experiment_id, run_name=\"Test1\"):\n",
    "    mlflow.log_metric(\"wind102\", 1)\n",
    "    mlflow.log_metric(\"moist022\", 2)"
   ]
  }
 ],
 "metadata": {
  "kernelspec": {
   "display_name": ".venv",
   "language": "python",
   "name": "python3"
  },
  "language_info": {
   "codemirror_mode": {
    "name": "ipython",
    "version": 3
   },
   "file_extension": ".py",
   "mimetype": "text/x-python",
   "name": "python",
   "nbconvert_exporter": "python",
   "pygments_lexer": "ipython3",
   "version": "3.10.12"
  }
 },
 "nbformat": 4,
 "nbformat_minor": 5
}
